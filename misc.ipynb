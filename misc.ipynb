{
 "cells": [
  {
   "cell_type": "code",
   "execution_count": 1,
   "metadata": {},
   "outputs": [],
   "source": [
    "import sys\n",
    "import os\n",
    "import numpy as np\n",
    "import skimage.color\n",
    "import skimage.io\n",
    "from matplotlib import pyplot as plt\n",
    "\n",
    "import pandas as pd"
   ]
  },
  {
   "cell_type": "code",
   "execution_count": 2,
   "metadata": {},
   "outputs": [],
   "source": [
    "# check image intensity\n",
    "image_folder_dir = \"../../_publication/2021-09-30-2/20210930163433/\"\n",
    "image_list = os.listdir(image_folder_dir)"
   ]
  },
  {
   "cell_type": "code",
   "execution_count": 3,
   "metadata": {},
   "outputs": [
    {
     "name": "stdout",
     "output_type": "stream",
     "text": [
      "C:\\Users\\junting.ma\\Documents\\Documents\\GitHub\\jupyter_notebook\n",
      "['Area1', 'Area2', 'Master.png', 'remove_mid_img.py', 'Result_20210930163433.csv']\n"
     ]
    }
   ],
   "source": [
    "print(os.getcwd())\n",
    "print(image_list)"
   ]
  },
  {
   "cell_type": "code",
   "execution_count": 4,
   "metadata": {},
   "outputs": [
    {
     "name": "stdout",
     "output_type": "stream",
     "text": [
      "      Idx   Num  Judgement  Pass  Error  Centroid_X  Centroid_Y  \\\n",
      "0        0     1          1     2      0         159         377   \n",
      "1        1     2          1     2      0         147         377   \n",
      "2        2     3          0     3      0         141         375   \n",
      "3        3     4          1     2      0         161         373   \n",
      "4        4     5          1     2      0         163         372   \n",
      "...    ...   ...        ...   ...    ...         ...         ...   \n",
      "7304  7304  7305          0     3      0         137         381   \n",
      "7305  7305  7306          1     2      0         146         371   \n",
      "7306  7306  7307          0     3      0         158         376   \n",
      "7307  7307  7308          0     3      0         145         379   \n",
      "7308  7308  7309          0     0      0         148         382   \n",
      "\n",
      "      sharpness_prewitt  sharpness_roberts  sharpness_sobel  \\\n",
      "0                34.250             25.241           35.242   \n",
      "1                29.603             17.059           29.910   \n",
      "2                 8.354              7.184            8.585   \n",
      "3                28.113             19.142           28.712   \n",
      "4                38.994             22.506           39.393   \n",
      "...                 ...                ...              ...   \n",
      "7304              8.659              7.663            8.888   \n",
      "7305             46.033             27.366           46.355   \n",
      "7306             34.734             19.428           34.945   \n",
      "7307             13.802              9.812           14.067   \n",
      "7308              8.869              7.685            9.086   \n",
      "\n",
      "      sharpness_laplacian  ROI1_Area  ROI1_Perimeter  ROI1_Elongation Factor  \\\n",
      "0                 165.993       2171           215.3                     1.7   \n",
      "1                 141.035       1538           151.6                     1.5   \n",
      "2                 122.906        309           100.7                     1.9   \n",
      "3                 159.476       1531           231.7                     1.9   \n",
      "4                 141.741       1532           165.5                     1.7   \n",
      "...                   ...        ...             ...                     ...   \n",
      "7304              125.514        292            89.8                     2.2   \n",
      "7305              132.800       1680           186.3                     1.6   \n",
      "7306              134.175       1296           166.7                     1.6   \n",
      "7307              125.936        520           134.3                     1.9   \n",
      "7308              123.440          0             0.0                     0.0   \n",
      "\n",
      "      ROI2_Area  ROI2_Perimeter  ROI2_Elongation Factor  \n",
      "0           602            88.0                     1.4  \n",
      "1           564            85.9                     1.6  \n",
      "2             0             0.0                     0.0  \n",
      "3           417            76.6                     1.8  \n",
      "4           472            79.8                     1.8  \n",
      "...         ...             ...                     ...  \n",
      "7304          0             0.0                     0.0  \n",
      "7305        540            84.3                     1.6  \n",
      "7306        588            88.3                     1.5  \n",
      "7307        257            63.9                     1.7  \n",
      "7308          0             0.0                     0.0  \n",
      "\n",
      "[7309 rows x 17 columns]\n"
     ]
    }
   ],
   "source": [
    "data_file = image_folder_dir + \"Result_20210930163433.csv\"\n",
    "data = pd.read_csv(data_file, skiprows = 19, encoding= 'unicode_escape')\n",
    "print(data)"
   ]
  },
  {
   "cell_type": "code",
   "execution_count": 5,
   "metadata": {},
   "outputs": [
    {
     "name": "stdout",
     "output_type": "stream",
     "text": [
      "       Idx   Num  Judgement  Pass  Error  Centroid_X  Centroid_Y  \\\n",
      "0        0     1          1     2      0         159         377   \n",
      "1        1     2          1     2      0         147         377   \n",
      "2        2     3          0     3      0         141         375   \n",
      "3        3     4          1     2      0         161         373   \n",
      "4        4     5          1     2      0         163         372   \n",
      "...    ...   ...        ...   ...    ...         ...         ...   \n",
      "7304  7304  7305          0     3      0         137         381   \n",
      "7305  7305  7306          1     2      0         146         371   \n",
      "7306  7306  7307          0     3      0         158         376   \n",
      "7307  7307  7308          0     3      0         145         379   \n",
      "7308  7308  7309          0     0      0         148         382   \n",
      "\n",
      "      sharpness_prewitt  sharpness_roberts  sharpness_sobel  \\\n",
      "0                34.250             25.241           35.242   \n",
      "1                29.603             17.059           29.910   \n",
      "2                 8.354              7.184            8.585   \n",
      "3                28.113             19.142           28.712   \n",
      "4                38.994             22.506           39.393   \n",
      "...                 ...                ...              ...   \n",
      "7304              8.659              7.663            8.888   \n",
      "7305             46.033             27.366           46.355   \n",
      "7306             34.734             19.428           34.945   \n",
      "7307             13.802              9.812           14.067   \n",
      "7308              8.869              7.685            9.086   \n",
      "\n",
      "      sharpness_laplacian  ROI1_Area  ROI1_Perimeter  ROI1_Elongation Factor  \\\n",
      "0                 165.993       2171           215.3                     1.7   \n",
      "1                 141.035       1538           151.6                     1.5   \n",
      "2                 122.906        309           100.7                     1.9   \n",
      "3                 159.476       1531           231.7                     1.9   \n",
      "4                 141.741       1532           165.5                     1.7   \n",
      "...                   ...        ...             ...                     ...   \n",
      "7304              125.514        292            89.8                     2.2   \n",
      "7305              132.800       1680           186.3                     1.6   \n",
      "7306              134.175       1296           166.7                     1.6   \n",
      "7307              125.936        520           134.3                     1.9   \n",
      "7308              123.440          0             0.0                     0.0   \n",
      "\n",
      "      ROI2_Area  ROI2_Perimeter  ROI2_Elongation Factor  \n",
      "0           602            88.0                     1.4  \n",
      "1           564            85.9                     1.6  \n",
      "2             0             0.0                     0.0  \n",
      "3           417            76.6                     1.8  \n",
      "4           472            79.8                     1.8  \n",
      "...         ...             ...                     ...  \n",
      "7304          0             0.0                     0.0  \n",
      "7305        540            84.3                     1.6  \n",
      "7306        588            88.3                     1.5  \n",
      "7307        257            63.9                     1.7  \n",
      "7308          0             0.0                     0.0  \n",
      "\n",
      "[7309 rows x 17 columns]\n"
     ]
    }
   ],
   "source": [
    "data.rename(columns = {list(data)[0]: 'Idx'}, inplace = True)\n",
    "print(data)"
   ]
  }
 ],
 "metadata": {
  "kernelspec": {
   "display_name": "Python 3",
   "language": "python",
   "name": "python3"
  },
  "language_info": {
   "codemirror_mode": {
    "name": "ipython",
    "version": 3
   },
   "file_extension": ".py",
   "mimetype": "text/x-python",
   "name": "python",
   "nbconvert_exporter": "python",
   "pygments_lexer": "ipython3",
   "version": "3.8.5"
  }
 },
 "nbformat": 4,
 "nbformat_minor": 4
}
