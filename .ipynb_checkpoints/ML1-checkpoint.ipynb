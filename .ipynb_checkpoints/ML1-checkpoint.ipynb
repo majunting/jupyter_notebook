{
 "cells": [
  {
   "cell_type": "code",
   "execution_count": 9,
   "metadata": {},
   "outputs": [],
   "source": [
    "import tensorflow as tf\n",
    "import numpy as np\n",
    "import pandas as pd\n",
    "from tensorflow.keras import Model, layers\n",
    "\n",
    "import os\n",
    "import pathlib"
   ]
  },
  {
   "cell_type": "code",
   "execution_count": 14,
   "metadata": {},
   "outputs": [],
   "source": [
    "# df = pd.DataFrame(columns = ['image', 'cells'])\n",
    "\n",
    "# # base_dir = os.path.join(os.path.abspath(''), \"Aria1/\")\n",
    "# base_dir = \"../../20201020134002/Aria1/\"\n",
    "# img_prefix = \"Area1_Cell_\"\n",
    "# img_suffix = \"_bin.png\"\n",
    "\n",
    "# directory = os.fsencode(base_dir)\n",
    "# for file in os.listdir(directory):\n",
    "#     filename = os.fsdecode(file)\n",
    "#     if filename.endswith(img_suffix):\n",
    "#         df = df.append({'image': filename, 'cells': \"\"}, ignore_index = True)\n",
    "# df.to_csv(r'../../20201020134002/dataset.csv', index = False)"
   ]
  },
  {
   "cell_type": "code",
   "execution_count": null,
   "metadata": {},
   "outputs": [],
   "source": []
  }
 ],
 "metadata": {
  "kernelspec": {
   "display_name": "Python 3",
   "language": "python",
   "name": "python3"
  },
  "language_info": {
   "codemirror_mode": {
    "name": "ipython",
    "version": 3
   },
   "file_extension": ".py",
   "mimetype": "text/x-python",
   "name": "python",
   "nbconvert_exporter": "python",
   "pygments_lexer": "ipython3",
   "version": "3.8.3"
  }
 },
 "nbformat": 4,
 "nbformat_minor": 4
}
