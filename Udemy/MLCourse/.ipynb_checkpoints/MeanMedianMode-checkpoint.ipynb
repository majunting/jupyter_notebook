{
 "cells": [
  {
   "cell_type": "markdown",
   "metadata": {},
   "source": [
    "# Mean, Median, Mode, and introducing NumPy"
   ]
  },
  {
   "cell_type": "markdown",
   "metadata": {},
   "source": [
    "## Mean vs. Median"
   ]
  },
  {
   "cell_type": "markdown",
   "metadata": {},
   "source": [
    "Let's create some fake income data, centered around 27,000 with a normal distribution and standard deviation of 15,000, with 10,000 data points. (We'll discuss those terms more later, if you're not familiar with them.)\n",
    "\n",
    "Then, compute the mean (average) - it should be close to 27,000:"
   ]
  },
  {
   "cell_type": "code",
   "execution_count": 1,
   "metadata": {},
   "outputs": [
    {
     "data": {
      "text/plain": [
       "26939.185299750457"
      ]
     },
     "execution_count": 1,
     "metadata": {},
     "output_type": "execute_result"
    }
   ],
   "source": [
    "import numpy as np\n",
    "\n",
    "incomes = np.random.normal(27000, 15000, 10000)\n",
    "np.mean(incomes)"
   ]
  },
  {
   "cell_type": "markdown",
   "metadata": {},
   "source": [
    "We can segment the income data into 50 buckets, and plot it as a histogram:"
   ]
  },
  {
   "cell_type": "code",
   "execution_count": 2,
   "metadata": {},
   "outputs": [
    {
     "data": {
      "image/png": "[encoded data removed]",
      "text/plain": [
       "<Figure size 432x288 with 1 Axes>"
      ]
     },
     "metadata": {
      "needs_background": "light"
     },
     "output_type": "display_data"
    }
   ],
   "source": [
    "%matplotlib inline\n",
    "import matplotlib.pyplot as plt\n",
    "plt.hist(incomes, 50)\n",
    "plt.show()"
   ]
  },
  {
   "cell_type": "markdown",
   "metadata": {},
   "source": [
    "Now compute the median - since we have a nice, even distribution it too should be close to 27,000:"
   ]
  },
  {
   "cell_type": "code",
   "execution_count": 3,
   "metadata": {},
   "outputs": [
    {
     "data": {
      "text/plain": [
       "27032.15866605885"
      ]
     },
     "execution_count": 3,
     "metadata": {},
     "output_type": "execute_result"
    }
   ],
   "source": [
    "np.median(incomes)"
   ]
  },
  {
   "cell_type": "markdown",
   "metadata": {},
   "source": [
    "Now we'll add Jeff Bezos into the mix. Darn income inequality!"
   ]
  },
  {
   "cell_type": "code",
   "execution_count": 4,
   "metadata": {},
   "outputs": [],
   "source": [
    "incomes = np.append(incomes, [1000000000])"
   ]
  },
  {
   "cell_type": "markdown",
   "metadata": {},
   "source": [
    "The median won't change much, but the mean does:"
   ]
  },
  {
   "cell_type": "code",
   "execution_count": 5,
   "metadata": {},
   "outputs": [
    {
     "data": {
      "text/plain": [
       "27034.64324268276"
      ]
     },
     "execution_count": 5,
     "metadata": {},
     "output_type": "execute_result"
    }
   ],
   "source": [
    "np.median(incomes)"
   ]
  },
  {
   "cell_type": "code",
   "execution_count": 6,
   "metadata": {},
   "outputs": [
    {
     "data": {
      "text/plain": [
       "126926.4926504854"
      ]
     },
     "execution_count": 6,
     "metadata": {},
     "output_type": "execute_result"
    }
   ],
   "source": [
    "np.mean(incomes)"
   ]
  },
  {
   "cell_type": "markdown",
   "metadata": {},
   "source": [
    "## Mode"
   ]
  },
  {
   "cell_type": "markdown",
   "metadata": {},
   "source": [
    "Next, let's generate some fake age data for 500 people:"
   ]
  },
  {
   "cell_type": "code",
   "execution_count": 7,
   "metadata": {},
   "outputs": [
    {
     "data": {
      "text/plain": [
       "array([19, 43, 82, 30, 68, 89, 41, 69, 52, 65, 36, 39, 78, 69, 80, 43, 62,\n",
       "       45, 42, 40, 49, 33, 20, 52, 80, 78, 43, 48, 63, 22, 89, 44, 49, 71,\n",
       "       66, 47, 89, 85, 64, 18, 80, 63, 85, 23, 49, 22, 47, 30, 88, 57, 21,\n",
       "       80, 51, 66, 34, 38, 73, 24, 61, 76, 72, 83, 26, 51, 65, 81, 24, 87,\n",
       "       77, 24, 48, 51, 75, 67, 26, 58, 37, 78, 38, 49, 48, 88, 70, 63, 27,\n",
       "       33, 65, 87, 75, 33, 24, 62, 36, 88, 85, 28, 66, 37, 81, 43, 25, 78,\n",
       "       68, 20, 88, 55, 63, 74, 37, 81, 88, 24, 47, 32, 80, 42, 27, 75, 57,\n",
       "       18, 89, 20, 76, 53, 65, 87, 66, 27, 27, 62, 70, 39, 20, 44, 67, 62,\n",
       "       26, 88, 81, 54, 35, 83, 44, 28, 82, 33, 27, 68, 69, 18, 48, 88, 72,\n",
       "       32, 63, 88, 37, 82, 65, 61, 81, 82, 28, 45, 44, 55, 38, 83, 25, 34,\n",
       "       77, 34, 66, 73, 70, 86, 29, 43, 65, 67, 87, 44, 37, 50, 47, 39, 56,\n",
       "       30, 34, 82, 40, 62, 30, 31, 55, 62, 29, 21, 28, 75, 58, 40, 29, 70,\n",
       "       54, 19, 33, 23, 40, 77, 63, 81, 30, 85, 82, 38, 74, 68, 82, 33, 42,\n",
       "       74, 86, 22, 72, 58, 46, 23, 24, 28, 83, 69, 35, 89, 47, 85, 42, 83,\n",
       "       23, 85, 37, 59, 40, 21, 83, 43, 28, 53, 69, 27, 56, 26, 65, 57, 19,\n",
       "       42, 64, 73, 42, 54, 29, 21, 39, 74, 46, 79, 41, 54, 71, 31, 50, 85,\n",
       "       78, 56, 41, 57, 43, 54, 78, 58, 21, 40, 27, 27, 86, 35, 63, 31, 38,\n",
       "       31, 39, 28, 34, 77, 85, 46, 26, 72, 27, 42, 80, 86, 54, 28, 59, 66,\n",
       "       41, 28, 69, 69, 41, 74, 26, 86, 23, 54, 47, 23, 38, 65, 27, 72, 62,\n",
       "       88, 80, 57, 68, 75, 63, 39, 76, 50, 69, 82, 63, 75, 60, 65, 87, 20,\n",
       "       86, 40, 40, 80, 34, 39, 71, 48, 34, 45, 73, 34, 29, 59, 43, 83, 38,\n",
       "       28, 56, 37, 30, 30, 85, 36, 71, 44, 44, 61, 79, 76, 78, 32, 22, 32,\n",
       "       76, 44, 59, 64, 43, 42, 40, 78, 56, 48, 22, 21, 29, 67, 89, 39, 18,\n",
       "       78, 48, 69, 29, 71, 82, 83, 72, 71, 78, 40, 73, 51, 23, 58, 22, 25,\n",
       "       18, 84, 56, 80, 24, 81, 88, 57, 70, 20, 60, 53, 33, 71, 75, 73, 27,\n",
       "       79, 18, 59, 85, 68, 80, 84, 23, 70, 24, 80, 52, 64, 63, 66, 75, 22,\n",
       "       25, 73, 83, 72, 52, 73, 88, 57, 51, 47, 59, 27, 45, 24, 29, 70, 82,\n",
       "       18, 76, 33, 37, 66, 18, 89, 23, 28, 32, 67, 30, 39, 59, 23, 56, 54,\n",
       "       62, 55, 68, 67, 42, 25, 72, 51, 27, 52, 55, 35, 48, 23, 38, 71, 82,\n",
       "       52, 47, 52, 83, 81, 49, 48])"
      ]
     },
     "execution_count": 7,
     "metadata": {},
     "output_type": "execute_result"
    }
   ],
   "source": [
    "ages = np.random.randint(18, high=90, size=500)\n",
    "ages"
   ]
  },
  {
   "cell_type": "code",
   "execution_count": 8,
   "metadata": {},
   "outputs": [
    {
     "data": {
      "text/plain": [
       "ModeResult(mode=array([27]), count=array([13]))"
      ]
     },
     "execution_count": 8,
     "metadata": {},
     "output_type": "execute_result"
    }
   ],
   "source": [
    "from scipy import stats\n",
    "stats.mode(ages)"
   ]
  },
  {
   "cell_type": "code",
   "execution_count": null,
   "metadata": {},
   "outputs": [],
   "source": []
  }
 ],
 "metadata": {
  "kernelspec": {
   "display_name": "Python 3",
   "language": "python",
   "name": "python3"
  },
  "language_info": {
   "codemirror_mode": {
    "name": "ipython",
    "version": 3
   },
   "file_extension": ".py",
   "mimetype": "text/x-python",
   "name": "python",
   "nbconvert_exporter": "python",
   "pygments_lexer": "ipython3",
   "version": "3.8.3"
  }
 },
 "nbformat": 4,
 "nbformat_minor": 1
}
